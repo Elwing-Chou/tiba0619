{
  "nbformat": 4,
  "nbformat_minor": 0,
  "metadata": {
    "colab": {
      "provenance": [],
      "authorship_tag": "ABX9TyMWHMYa+c99b1JdTzTNfJ38",
      "include_colab_link": true
    },
    "kernelspec": {
      "name": "python3",
      "display_name": "Python 3"
    },
    "language_info": {
      "name": "python"
    }
  },
  "cells": [
    {
      "cell_type": "markdown",
      "metadata": {
        "id": "view-in-github",
        "colab_type": "text"
      },
      "source": [
        "<a href=\"https://colab.research.google.com/github/Elwing-Chou/tiba0619/blob/main/Untitled48.ipynb\" target=\"_parent\"><img src=\"https://colab.research.google.com/assets/colab-badge.svg\" alt=\"Open In Colab\"/></a>"
      ]
    },
    {
      "cell_type": "code",
      "execution_count": 17,
      "metadata": {
        "colab": {
          "base_uri": "https://localhost:8080/"
        },
        "id": "59HQehrYGucZ",
        "outputId": "ea463c18-32c1-4091-f554-f9b503ab4457"
      },
      "outputs": [
        {
          "output_type": "stream",
          "name": "stdout",
          "text": [
            "! 200000\n",
            "0.9999999999999647\n"
          ]
        }
      ],
      "source": [
        "import math\n",
        "\n",
        "def gaussian(x, mu, sigma):\n",
        "    left = 1 / (2 * math.pi * sigma * sigma) ** 0.5\n",
        "    rightpow = -1 * ((x - mu) ** 2) / (2 * sigma * sigma)\n",
        "    right = math.exp(rightpow)\n",
        "    return left * right\n",
        "\n",
        "mu, sigma = -3, 6\n",
        "left, right = -100, 100\n",
        "interval = 0.001\n",
        "\n",
        "total = 0\n",
        "partial = int((right - left) / interval)\n",
        "# print(\"!\", partial)\n",
        "for i in range(partial):\n",
        "    x = left + i * interval\n",
        "    y = gaussian(x, mu, sigma)\n",
        "    # print(x, y)\n",
        "    area = y * interval\n",
        "    total = total + area\n",
        "print(total)"
      ]
    },
    {
      "cell_type": "code",
      "source": [
        "# 0.9999999999999976\n",
        "# 0.9999999999999647"
      ],
      "metadata": {
        "id": "c8guTqG6KSjU"
      },
      "execution_count": null,
      "outputs": []
    }
  ]
}