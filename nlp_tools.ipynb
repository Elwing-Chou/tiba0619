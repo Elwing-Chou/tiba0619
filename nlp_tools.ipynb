{
  "nbformat": 4,
  "nbformat_minor": 0,
  "metadata": {
    "colab": {
      "provenance": [],
      "authorship_tag": "ABX9TyPQIWoHmeKEhdywoeE+8Czz",
      "include_colab_link": true
    },
    "kernelspec": {
      "name": "python3",
      "display_name": "Python 3"
    },
    "language_info": {
      "name": "python"
    }
  },
  "cells": [
    {
      "cell_type": "markdown",
      "metadata": {
        "id": "view-in-github",
        "colab_type": "text"
      },
      "source": [
        "<a href=\"https://colab.research.google.com/github/Elwing-Chou/tiba0619/blob/main/nlp_tools.ipynb\" target=\"_parent\"><img src=\"https://colab.research.google.com/assets/colab-badge.svg\" alt=\"Open In Colab\"/></a>"
      ]
    },
    {
      "cell_type": "code",
      "execution_count": null,
      "metadata": {
        "id": "-5MWQ0aTwfoP"
      },
      "outputs": [],
      "source": [
        "!pip install opencc-python-reimplemented"
      ]
    },
    {
      "cell_type": "code",
      "source": [
        "from opencc import OpenCC\n",
        "cc = OpenCC(\"s2tw\")  # convert from Simplified Chinese to Traditional Chinese\n",
        "to_convert = \"\"\"中共建党纪念日“七一”前夕，陕西省安康市镇坪县一所“综合执法大队”被人涂改成“综合执法犬队”，网络上一片叫好。官方随后通报是10岁童所为。有网友评论说：谁说中华没男儿？​\n",
        "\n",
        "中新网7月2日报导，陕西镇坪县官方当天通报引发网络关注的“镇坪县应急管理综合执法大队变执法犬队”事件。\n",
        "\n",
        "\n",
        "通报表示，6月30日11时许，在网络出现“镇坪县应急管理综合执法大队变执法犬队”相关内容后，镇坪县应急管理局工作人员核实发现“镇坪县应急管理综合执法大队”标牌上的“大”字被篡改，疑似人为所致，随即报警。\n",
        "\n",
        "通报称，经警方调查，2023年6月27日18时40分许，丁某某（10岁）在镇坪县应急管理局门口玩耍时，看见悬挂的“镇坪县应急救援技术中心”标牌上“术”字右上角的“、”有脱落现象，随即将其扯下，贴在该局门口另一侧悬挂的“镇坪县应急管理综合执法大队”标牌的“大”字右上角。\n",
        "\n",
        "据称，鉴于当事人系未成年人，当局责令其监护人“加强监管教育”。\"\"\"\n",
        "\n",
        "converted = cc.convert(to_convert)\n",
        "converted"
      ],
      "metadata": {
        "colab": {
          "base_uri": "https://localhost:8080/",
          "height": 122
        },
        "id": "bv-Z0j_OyEPQ",
        "outputId": "5b7ba322-daff-4df4-bbff-a6544ec823ef"
      },
      "execution_count": 2,
      "outputs": [
        {
          "output_type": "execute_result",
          "data": {
            "text/plain": [
              "'中共建黨紀念日“七一”前夕，陝西省安康市鎮坪縣一所“綜合執法大隊”被人塗改成“綜合執法犬隊”，網絡上一片叫好。官方隨後通報是10歲童所為。有網友評論說：誰說中華沒男兒？\\u200b\\n\\n中新網7月2日報導，陝西鎮坪縣官方當天通報引發網絡關注的“鎮坪縣應急管理綜合執法大隊變執法犬隊”事件。\\n\\n\\n通報表示，6月30日11時許，在網絡出現“鎮坪縣應急管理綜合執法大隊變執法犬隊”相關內容後，鎮坪縣應急管理局工作人員核實發現“鎮坪縣應急管理綜合執法大隊”標牌上的“大”字被篡改，疑似人為所致，隨即報警。\\n\\n通報稱，經警方調查，2023年6月27日18時40分許，丁某某（10歲）在鎮坪縣應急管理局門口玩耍時，看見懸掛的“鎮坪縣應急救援技術中心”標牌上“術”字右上角的“、”有脫落現象，隨即將其扯下，貼在該局門口另一側懸掛的“鎮坪縣應急管理綜合執法大隊”標牌的“大”字右上角。\\n\\n據稱，鑑於當事人系未成年人，當局責令其監護人“加強監管教育”。'"
            ],
            "application/vnd.google.colaboratory.intrinsic+json": {
              "type": "string"
            }
          },
          "metadata": {},
          "execution_count": 2
        }
      ]
    }
  ]
}