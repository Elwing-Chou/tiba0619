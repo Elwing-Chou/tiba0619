{
  "nbformat": 4,
  "nbformat_minor": 0,
  "metadata": {
    "colab": {
      "provenance": [],
      "authorship_tag": "ABX9TyNv5OmM7hxAmEb5/5ZqEWln",
      "include_colab_link": true
    },
    "kernelspec": {
      "name": "python3",
      "display_name": "Python 3"
    },
    "language_info": {
      "name": "python"
    }
  },
  "cells": [
    {
      "cell_type": "markdown",
      "metadata": {
        "id": "view-in-github",
        "colab_type": "text"
      },
      "source": [
        "<a href=\"https://colab.research.google.com/github/Elwing-Chou/tiba0619/blob/main/nlp_tools.ipynb\" target=\"_parent\"><img src=\"https://colab.research.google.com/assets/colab-badge.svg\" alt=\"Open In Colab\"/></a>"
      ]
    },
    {
      "cell_type": "code",
      "execution_count": null,
      "metadata": {
        "id": "-5MWQ0aTwfoP"
      },
      "outputs": [],
      "source": [
        "!pip install opencc-python-reimplemented"
      ]
    },
    {
      "cell_type": "code",
      "source": [
        "from opencc import OpenCC\n",
        "cc = OpenCC(\"s2tw\")  # convert from Simplified Chinese to Traditional Chinese\n",
        "to_convert = \"\"\"中共建党纪念日“七一”前夕，陕西省安康市镇坪县一所“综合执法大队”被人涂改成“综合执法犬队”，网络上一片叫好。官方随后通报是10岁童所为。有网友评论说：谁说中华没男儿？​\n",
        "\n",
        "中新网7月2日报导，陕西镇坪县官方当天通报引发网络关注的“镇坪县应急管理综合执法大队变执法犬队”事件。\n",
        "\n",
        "\n",
        "通报表示，6月30日11时许，在网络出现“镇坪县应急管理综合执法大队变执法犬队”相关内容后，镇坪县应急管理局工作人员核实发现“镇坪县应急管理综合执法大队”标牌上的“大”字被篡改，疑似人为所致，随即报警。\n",
        "\n",
        "通报称，经警方调查，2023年6月27日18时40分许，丁某某（10岁）在镇坪县应急管理局门口玩耍时，看见悬挂的“镇坪县应急救援技术中心”标牌上“术”字右上角的“、”有脱落现象，随即将其扯下，贴在该局门口另一侧悬挂的“镇坪县应急管理综合执法大队”标牌的“大”字右上角。\n",
        "\n",
        "据称，鉴于当事人系未成年人，当局责令其监护人“加强监管教育”。\"\"\"\n",
        "\n",
        "converted = cc.convert(to_convert)\n",
        "converted"
      ],
      "metadata": {
        "colab": {
          "base_uri": "https://localhost:8080/",
          "height": 140
        },
        "id": "bv-Z0j_OyEPQ",
        "outputId": "5b7ba322-daff-4df4-bbff-a6544ec823ef"
      },
      "execution_count": 2,
      "outputs": [
        {
          "output_type": "execute_result",
          "data": {
            "text/plain": [
              "'中共建黨紀念日“七一”前夕，陝西省安康市鎮坪縣一所“綜合執法大隊”被人塗改成“綜合執法犬隊”，網絡上一片叫好。官方隨後通報是10歲童所為。有網友評論說：誰說中華沒男兒？\\u200b\\n\\n中新網7月2日報導，陝西鎮坪縣官方當天通報引發網絡關注的“鎮坪縣應急管理綜合執法大隊變執法犬隊”事件。\\n\\n\\n通報表示，6月30日11時許，在網絡出現“鎮坪縣應急管理綜合執法大隊變執法犬隊”相關內容後，鎮坪縣應急管理局工作人員核實發現“鎮坪縣應急管理綜合執法大隊”標牌上的“大”字被篡改，疑似人為所致，隨即報警。\\n\\n通報稱，經警方調查，2023年6月27日18時40分許，丁某某（10歲）在鎮坪縣應急管理局門口玩耍時，看見懸掛的“鎮坪縣應急救援技術中心”標牌上“術”字右上角的“、”有脫落現象，隨即將其扯下，貼在該局門口另一側懸掛的“鎮坪縣應急管理綜合執法大隊”標牌的“大”字右上角。\\n\\n據稱，鑑於當事人系未成年人，當局責令其監護人“加強監管教育”。'"
            ],
            "application/vnd.google.colaboratory.intrinsic+json": {
              "type": "string"
            }
          },
          "metadata": {},
          "execution_count": 2
        }
      ]
    },
    {
      "cell_type": "code",
      "source": [
        "news = \"\"\"英國前首相、現任下議員特拉斯（Liz Truss）五月間受邀訪台，發言力挺台灣，英方透露經費由具濃厚政府色彩的財團法人兩岸交流遠景基金會和外交部埋單，總額九萬英鎊，約新台幣三百五十萬元。外交部今（3日）回應，演講公司與主辦單位以簽約方式確定各項安排，也都有慣例可循。\n",
        "\n",
        "英國前首相特拉斯(左)來台曾拜會總統蔡英文、副總統賴清德(右)等政要，並拜訪立法院。（圖／總統府提供)\n",
        "外交部說，特拉斯前首相（Liz Truss MP）今（112）年5月應外交部邀請訪問台灣，期間並應遠景基金會邀請於5月17日發表演講。特拉斯前首相是透過演講公司（Chartwell Speakers）為其安排協調在台演講事宜，並由該公司與主辦單位遠景基金會簽約。\n",
        "\n",
        "外交部表示，英國卸任元首及政要透過演講公司安排於外國演講是相當普遍的作法；演講公司與主辦單位以簽約方式確定各項安排，也都有慣例可循。\n",
        "\n",
        "外交部指出，一向竭誠歡迎國際友人來訪，除了有助增進國際友人對台灣的瞭解外，同時也是他們以具體行動展現對我國的支持。英國前首相特拉斯在台行程是由外交部居間協調，相關費用是依照我國邀訪外賓規定，而歷任政府不論執政黨為何，均依此原則辦理。至於演講報酬部分，由於外交部並非簽約方，所以不便代為說明。\n",
        "\n",
        "英國國會近期秉持透明公開的精神，公布國會議員的額外收入，內容指出，特拉斯受邀到台灣演講，獲得來自遠景基金會8萬英鎊的收入（約新台幣310萬）；而她訪台的機票錢，以及在台期間的住宿費等，合計為10841（約新台幣40萬），則由我國外交部埋單。\"\"\""
      ],
      "metadata": {
        "id": "nzvroP02TNAY"
      },
      "execution_count": 1,
      "outputs": []
    },
    {
      "cell_type": "code",
      "source": [
        "import jieba\n",
        "from urllib.request import urlretrieve\n",
        "url = \"https://github.com/fxsjy/jieba/raw/master/extra_dict/dict.txt.big\"\n",
        "urlretrieve(url, \"bigdic\")\n",
        "url = \"https://github.com/Elwing-Chou/tiba0619/raw/main/mydic.txt\"\n",
        "urlretrieve(url, \"mydic\")\n",
        "jieba.set_dictionary(\"bigdic\")\n",
        "jieba.load_userdict(\"mydic\")\n",
        "\" \".join(jieba.cut(news))"
      ],
      "metadata": {
        "colab": {
          "base_uri": "https://localhost:8080/",
          "height": 400
        },
        "id": "hB4u06FrTBtm",
        "outputId": "e1cfc8f2-de27-4804-c366-992cb367bb01"
      },
      "execution_count": 8,
      "outputs": [
        {
          "output_type": "stream",
          "name": "stderr",
          "text": [
            "Building prefix dict from /content/bigdic ...\n",
            "DEBUG:jieba:Building prefix dict from /content/bigdic ...\n",
            "Dumping model to file cache /tmp/jieba.ud6bf8f54c01f90b8d724c40d567237f2.cache\n",
            "DEBUG:jieba:Dumping model to file cache /tmp/jieba.ud6bf8f54c01f90b8d724c40d567237f2.cache\n",
            "Loading model cost 1.455 seconds.\n",
            "DEBUG:jieba:Loading model cost 1.455 seconds.\n",
            "Prefix dict has been built successfully.\n",
            "DEBUG:jieba:Prefix dict has been built successfully.\n"
          ]
        },
        {
          "output_type": "execute_result",
          "data": {
            "text/plain": [
              "'英國 前首相 、 現任 下議員 特拉斯 （ Liz   Truss ） 五月 間 受邀 訪台 ， 發言 力挺 台灣 ， 英方 透露 經費 由具 濃厚 政府 色彩 的 財團法人 兩岸 交流 遠景 基金會 和 外交部 埋單 ， 總額 九 萬英鎊 ， 約 新台幣 三百五十 萬元 。 外交部 今 （ 3 日 ） 回應 ， 演講 公司 與 主辦單位 以 簽約 方式 確定 各項 安排 ， 也 都 有 慣例 可循 。 \\n \\n 英國 前首相 特拉斯 ( 左 ) 來台 曾 拜會 總統 蔡英文 、 副總統 賴清德 ( 右 ) 等 政要 ， 並 拜訪 立法院 。 （ 圖 ／ 總統府 提供 ) \\n 外交部 說 ， 特拉斯 前首相 （ Liz   Truss   MP ） 今 （ 112 ） 年 5 月 應 外交部 邀請 訪問 台灣 ， 期間 並應 遠景 基金會 邀請 於 5 月 17 日 發表 演講 。 特拉斯 前首相 是 透過 演講 公司 （ Chartwell   Speakers ） 為 其 安排 協調 在 台 演講 事宜 ， 並由該 公司 與 主辦單位 遠景 基金會 簽約 。 \\n \\n 外交部 表示 ， 英國 卸任 元首 及 政要 透過 演講 公司 安排 於 外國 演講 是 相當 普遍 的 作法 ； 演講 公司 與 主辦單位 以 簽約 方式 確定 各項 安排 ， 也 都 有 慣例 可循 。 \\n \\n 外交部 指出 ， 一向 竭誠歡迎 國際友人 來訪 ， 除了 有助 增進 國際友人 對 台灣 的 瞭解 外 ， 同時 也 是 他們 以 具體 行動 展現 對 我國 的 支持 。 英國 前首相 特拉斯 在 台 行程 是 由 外交部 居間 協調 ， 相關 費用 是 依照 我國 邀訪 外賓 規定 ， 而 歷任 政府 不論 執政黨 為何 ， 均依 此 原則 辦理 。 至於 演講 報酬 部分 ， 由於 外交部 並非 簽約 方 ， 所以 不便 代為 說明 。 \\n \\n 英國 國會 近期 秉持 透明 公開 的 精神 ， 公布 國會議員 的 額外 收入 ， 內容 指出 ， 特拉斯 受邀 到 台灣 演講 ， 獲得 來自 遠景 基金會 8 萬英鎊 的 收入 （ 約 新台幣 310 萬 ） ； 而 她 訪台 的 機票 錢 ， 以及 在 台 期間 的 住宿費 等 ， 合計 為 10841 （ 約 新台幣 40 萬 ） ， 則由 我國 外交部 埋單 。'"
            ],
            "application/vnd.google.colaboratory.intrinsic+json": {
              "type": "string"
            }
          },
          "metadata": {},
          "execution_count": 8
        }
      ]
    },
    {
      "cell_type": "code",
      "source": [
        "import jieba.analyse\n",
        "jieba.analyse.extract_tags(news)\n",
        "jieba.analyse.extract_tags(news, withWeight=True)\n",
        "jieba.analyse.extract_tags(news, allowPOS=[\"n\", \"nr\"])"
      ],
      "metadata": {
        "colab": {
          "base_uri": "https://localhost:8080/"
        },
        "id": "DjYB6Hm2h2Tg",
        "outputId": "e076a3c2-969b-432c-d994-398dc6d6fd4e"
      },
      "execution_count": 13,
      "outputs": [
        {
          "output_type": "execute_result",
          "data": {
            "text/plain": [
              "['遠景',\n",
              " '基金會',\n",
              " '主辦單位',\n",
              " '慣例',\n",
              " '政要',\n",
              " '公司',\n",
              " '現任',\n",
              " '下議員',\n",
              " '財團法人',\n",
              " '總額',\n",
              " '來台',\n",
              " '總統',\n",
              " '蔡英文',\n",
              " '副總統',\n",
              " '賴清德',\n",
              " '總統府',\n",
              " '居間',\n",
              " '費用',\n",
              " '外賓',\n",
              " '規定']"
            ]
          },
          "metadata": {},
          "execution_count": 13
        }
      ]
    }
  ]
}